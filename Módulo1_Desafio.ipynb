{
  "nbformat": 4,
  "nbformat_minor": 0,
  "metadata": {
    "colab": {
      "name": "Untitled1.ipynb",
      "provenance": [],
      "authorship_tag": "ABX9TyO1qTac69LTbS56aR8+5ye+",
      "include_colab_link": true
    },
    "kernelspec": {
      "name": "python3",
      "display_name": "Python 3"
    },
    "language_info": {
      "name": "python"
    }
  },
  "cells": [
    {
      "cell_type": "markdown",
      "metadata": {
        "id": "view-in-github",
        "colab_type": "text"
      },
      "source": [
        "<a href=\"https://colab.research.google.com/github/oseverinop/curso_igti/blob/main/M%C3%B3dulo1_Desafio.ipynb\" target=\"_parent\"><img src=\"https://colab.research.google.com/assets/colab-badge.svg\" alt=\"Open In Colab\"/></a>"
      ]
    },
    {
      "cell_type": "code",
      "metadata": {
        "id": "cQuWkoUDjxfr"
      },
      "source": [
        "\n",
        "# Bloco de Código 1\n",
        "def ola(nome):\n",
        "  print('Olá, ' + nome + '. Bom Dia!')"
      ],
      "execution_count": null,
      "outputs": []
    },
    {
      "cell_type": "code",
      "metadata": {
        "id": "Avc3YqYrke1b"
      },
      "source": [
        " \n",
        "# Bloco de Código 2\n",
        "def soma(a,b):\n",
        "  return a + b"
      ],
      "execution_count": null,
      "outputs": []
    },
    {
      "cell_type": "code",
      "metadata": {
        "colab": {
          "base_uri": "https://localhost:8080/"
        },
        "id": "byk95TIWmOad",
        "outputId": "9f24cee5-2c04-4c9a-a65a-5bd2b2fe1591"
      },
      "source": [
        " \n",
        "# Bloco de Código 3\n",
        "def func():\n",
        "  x = 100\n",
        "  print('O valor na função é:', x)\n",
        " \n",
        "func()"
      ],
      "execution_count": null,
      "outputs": [
        {
          "output_type": "stream",
          "text": [
            "O valor na função é: 100\n"
          ],
          "name": "stdout"
        }
      ]
    },
    {
      "cell_type": "code",
      "metadata": {
        "colab": {
          "base_uri": "https://localhost:8080/"
        },
        "id": "1TFQnyAQmr7k",
        "outputId": "1bf619fe-af94-4073-c84e-51cff40bd5d7"
      },
      "source": [
        " \n",
        "# Bloco de Código 4\n",
        "def hello():\n",
        "  name = str(input(\"Digite o seu nome: \"))\n",
        "  if name:\n",
        "    print (\"Olá \" + str(name))\n",
        "  else:\n",
        "    print(\"Olá Mundo\")\n",
        "  return\n",
        " \n",
        "hello()"
      ],
      "execution_count": null,
      "outputs": [
        {
          "output_type": "stream",
          "text": [
            "Digite o seu nome: Alex\n",
            "Olá Alex\n"
          ],
          "name": "stdout"
        }
      ]
    }
  ]
}