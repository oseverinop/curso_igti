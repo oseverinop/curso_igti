{
  "nbformat": 4,
  "nbformat_minor": 0,
  "metadata": {
    "colab": {
      "name": "PensePython.ipynb",
      "provenance": [],
      "authorship_tag": "ABX9TyNoZ8QsxCElXO1BsNDh63SS",
      "include_colab_link": true
    },
    "kernelspec": {
      "name": "python3",
      "display_name": "Python 3"
    },
    "language_info": {
      "name": "python"
    }
  },
  "cells": [
    {
      "cell_type": "markdown",
      "metadata": {
        "id": "view-in-github",
        "colab_type": "text"
      },
      "source": [
        "<a href=\"https://colab.research.google.com/github/oseverinop/curso_igti/blob/main/PensePython.ipynb\" target=\"_parent\"><img src=\"https://colab.research.google.com/assets/colab-badge.svg\" alt=\"Open In Colab\"/></a>"
      ]
    },
    {
      "cell_type": "markdown",
      "metadata": {
        "id": "V2lZMWzSmwq-"
      },
      "source": [
        "PensePython2e (https://penseallen.github.io/PensePython2e)"
      ]
    },
    {
      "cell_type": "markdown",
      "metadata": {
        "id": "_xSO-ztpmnOe"
      },
      "source": [
        "Exercício - Capítulo 1"
      ]
    },
    {
      "cell_type": "markdown",
      "metadata": {
        "id": "WgK1NAmrmbDA"
      },
      "source": [
        "1. Quantos segundos há em 42 minutos e 42 segundos?"
      ]
    },
    {
      "cell_type": "code",
      "metadata": {
        "colab": {
          "base_uri": "https://localhost:8080/"
        },
        "id": "DLTG07jJmVsP",
        "outputId": "d52e095c-1113-4fd6-e4e4-3e53b4b37dfa"
      },
      "source": [
        "(42 * 60) + 42"
      ],
      "execution_count": 1,
      "outputs": [
        {
          "output_type": "execute_result",
          "data": {
            "text/plain": [
              "2562"
            ]
          },
          "metadata": {
            "tags": []
          },
          "execution_count": 1
        }
      ]
    },
    {
      "cell_type": "markdown",
      "metadata": {
        "id": "u4mXDW3emgEO"
      },
      "source": [
        "2. Quantas milhas há em 10 quilômetros? Dica: uma milha equivale a 1,61 quilômetro."
      ]
    },
    {
      "cell_type": "code",
      "metadata": {
        "colab": {
          "base_uri": "https://localhost:8080/"
        },
        "id": "uBpiBVlbml9G",
        "outputId": "354446cc-5072-49d8-8af0-0262b05e7ad6"
      },
      "source": [
        "10 / 1.61"
      ],
      "execution_count": 2,
      "outputs": [
        {
          "output_type": "execute_result",
          "data": {
            "text/plain": [
              "6.211180124223602"
            ]
          },
          "metadata": {
            "tags": []
          },
          "execution_count": 2
        }
      ]
    },
    {
      "cell_type": "markdown",
      "metadata": {
        "id": "Li8qVzCUmjOe"
      },
      "source": [
        "3. Se você correr 10 quilômetros em 42 minutos e 42 segundos, qual é o seu passo médio (tempo por milha em minutos e segundos)? Qual é a sua velocidade média em milhas por hora?"
      ]
    },
    {
      "cell_type": "code",
      "metadata": {
        "colab": {
          "base_uri": "https://localhost:8080/"
        },
        "id": "_RILZjQzmmcO",
        "outputId": "3c40de12-7aa3-44ad-e46f-b4a3a05d2954"
      },
      "source": [
        "((42 + (60 / 42)) / (10 / 1.61))*60"
      ],
      "execution_count": 4,
      "outputs": [
        {
          "output_type": "execute_result",
          "data": {
            "text/plain": [
              "419.52000000000004"
            ]
          },
          "metadata": {
            "tags": []
          },
          "execution_count": 4
        }
      ]
    },
    {
      "cell_type": "markdown",
      "metadata": {
        "id": "67mcPHv4x7cA"
      },
      "source": [
        "Exercícios - Capítulo 2\n",
        "\n",
        "Exercício 2.2\n",
        "\n",
        "Pratique o uso do interpretador do Python como uma calculadora:\n",
        "\n",
        "1. O volume de uma esfera com raio r é 4/3 * pi * r**3 Fórmula – Volume de uma esfera.. Qual é o volume de uma esfera com raio 5?"
      ]
    },
    {
      "cell_type": "code",
      "metadata": {
        "colab": {
          "base_uri": "https://localhost:8080/"
        },
        "id": "YBhcyiXiyKV_",
        "outputId": "52d81051-0101-4445-adf5-729b2325648c"
      },
      "source": [
        "(4/3) * 3.14 * (5**3)"
      ],
      "execution_count": 5,
      "outputs": [
        {
          "output_type": "execute_result",
          "data": {
            "text/plain": [
              "523.3333333333334"
            ]
          },
          "metadata": {
            "tags": []
          },
          "execution_count": 5
        }
      ]
    },
    {
      "cell_type": "markdown",
      "metadata": {
        "id": "GKJwlBeE3BpX"
      },
      "source": [
        "2. Suponha que o preço de capa de um livro seja R$ 24,95, mas as livrarias recebem um desconto de 40%. O transporte custa R$ 3,00 para o primeiro exemplar e 75 centavos para cada exemplar adicional. Qual é o custo total de atacado para 60 cópias?"
      ]
    },
    {
      "cell_type": "code",
      "metadata": {
        "colab": {
          "base_uri": "https://localhost:8080/"
        },
        "id": "BLVHBtQ_ymA2",
        "outputId": "e40f6ff0-49bc-40eb-aee1-3f119de4e749"
      },
      "source": [
        "preco_desc = 24.95 * 0.6\n",
        "transporte = 3 + (59 * 0.75)\n",
        "custo_total = preco_desc * 60 + transporte\n",
        "print(custo_total)\n",
        "\n",
        "print(((24.95 * 0.6) * 60) + (3 + (59 * 0.75)))"
      ],
      "execution_count": 8,
      "outputs": [
        {
          "output_type": "stream",
          "text": [
            "945.4499999999999\n",
            "945.4499999999999\n"
          ],
          "name": "stdout"
        }
      ]
    },
    {
      "cell_type": "markdown",
      "metadata": {
        "id": "8eF2tZ_N3BEg"
      },
      "source": [
        "3. Se eu sair da minha casa às 6:52 e correr 1 quilômetro a um certo passo (8min15s por quilômetro), então 3 quilômetros a um passo mais rápido (7min12s por quilômetro) e 1 quilômetro no mesmo passo usado em primeiro lugar, que horas chego em casa para o café da manhã?"
      ]
    },
    {
      "cell_type": "code",
      "metadata": {
        "colab": {
          "base_uri": "https://localhost:8080/"
        },
        "id": "d3rz6eJWz4F7",
        "outputId": "f922794a-80b6-4818-c868-279f0b6237fa"
      },
      "source": [
        "x = ((6 * 60 + 52) + (((1 * (8 * 60 + 15)) + (3 * (7 * 60 + 12)) + (1 * (8 * 60 + 15)))/60))/60\n",
        "y = int((x % 1) * 60)\n",
        "z = int(x)\n",
        "print(x)\n",
        "print(y)\n",
        "print(str(z) + ':' + str(y))"
      ],
      "execution_count": 18,
      "outputs": [
        {
          "output_type": "stream",
          "text": [
            "7.501666666666667\n",
            "30\n",
            "7:30\n"
          ],
          "name": "stdout"
        }
      ]
    }
  ]
}